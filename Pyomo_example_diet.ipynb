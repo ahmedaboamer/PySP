{
 "cells": [
  {
   "cell_type": "code",
   "execution_count": 1,
   "metadata": {},
   "outputs": [],
   "source": [
    "from pyomo.environ import *\n",
    "infinity = float('inf')\n",
    "\n",
    "model = AbstractModel()"
   ]
  },
  {
   "cell_type": "markdown",
   "metadata": {},
   "source": [
    "The sets F and N are declared abstractly using the Set component:"
   ]
  },
  {
   "cell_type": "code",
   "execution_count": 2,
   "metadata": {},
   "outputs": [],
   "source": [
    "# Foods\n",
    "model.F = Set()\n",
    "# Nutrients\n",
    "model.N = Set()"
   ]
  },
  {
   "cell_type": "markdown",
   "metadata": {},
   "source": [
    "Similarly, the model parameters are defined abstractly using the Param component:"
   ]
  },
  {
   "cell_type": "code",
   "execution_count": 3,
   "metadata": {},
   "outputs": [],
   "source": [
    "# Cost of each food\n",
    "model.c    = Param(model.F, within=PositiveReals)\n",
    "# Amount of nutrient in each food\n",
    "model.a    = Param(model.F, model.N, within=NonNegativeReals)\n",
    "# Lower and upper bound on each nutrient\n",
    "model.Nmin = Param(model.N, within=NonNegativeReals, default=0.0)\n",
    "model.Nmax = Param(model.N, within=NonNegativeReals, default=infinity)\n",
    "# Volume per serving of food\n",
    "model.V    = Param(model.F, within=PositiveReals)\n",
    "# Maximum volume of food consumed\n",
    "model.Vmax = Param(within=PositiveReals)"
   ]
  },
  {
   "cell_type": "markdown",
   "metadata": {},
   "source": [
    "The within option is used in these parameter declarations to define expected properties of the parameters. This information is used to perform error checks on the data that is used to initialize the parameter components."
   ]
  },
  {
   "cell_type": "markdown",
   "metadata": {},
   "source": [
    "The Var component is used to define the decision variables:"
   ]
  },
  {
   "cell_type": "code",
   "execution_count": 4,
   "metadata": {},
   "outputs": [],
   "source": [
    "# Number of servings consumed of each food\n",
    "model.x = Var(model.F, within=NonNegativeIntegers)"
   ]
  },
  {
   "cell_type": "markdown",
   "metadata": {},
   "source": [
    "The within option is used to restrict the domain of the decision variables to the non-negative reals. This eliminates the need for explicit bound constraints for variables.\n",
    "\n",
    "The Objective component is used to define the cost objective. This component uses a rule function to construct the objective expression:"
   ]
  },
  {
   "cell_type": "code",
   "execution_count": 5,
   "metadata": {},
   "outputs": [],
   "source": [
    "# Minimize the cost of food that is consumed\n",
    "def cost_rule(model):\n",
    "    return sum(model.c[i]*model.x[i] for i in model.F)\n",
    "model.cost = Objective(rule=cost_rule)"
   ]
  },
  {
   "cell_type": "markdown",
   "metadata": {},
   "source": [
    "Similarly, rule functions are used to define constraint expressions in the Constraint component:"
   ]
  },
  {
   "cell_type": "code",
   "execution_count": 6,
   "metadata": {},
   "outputs": [],
   "source": [
    "# Limit nutrient consumption for each nutrient\n",
    "def nutrient_rule(model, j):\n",
    "    value = sum(model.a[i,j]*model.x[i] for i in model.F)\n",
    "    return model.Nmin[j] <= value <= model.Nmax[j]\n",
    "model.nutrient_limit = Constraint(model.N, rule=nutrient_rule)\n",
    "\n",
    "# Limit the volume of food consumed\n",
    "def volume_rule(model):\n",
    "    return sum(model.V[i]*model.x[i] for i in model.F) <= model.Vmax\n",
    "model.volume = Constraint(rule=volume_rule)"
   ]
  },
  {
   "cell_type": "markdown",
   "metadata": {},
   "source": [
    "Putting these declarations all together gives the following model:"
   ]
  },
  {
   "cell_type": "code",
   "execution_count": 3,
   "metadata": {
    "scrolled": false
   },
   "outputs": [
    {
     "name": "stdout",
     "output_type": "stream",
     "text": [
      "from pyomo.environ import *\n",
      "infinity = float('inf')\n",
      "\n",
      "model = AbstractModel()\n",
      "\n",
      "# Foods\n",
      "model.F = Set()\n",
      "# Nutrients\n",
      "model.N = Set()\n",
      "\n",
      "# Cost of each food\n",
      "model.c    = Param(model.F, within=PositiveReals)\n",
      "# Amount of nutrient in each food\n",
      "model.a    = Param(model.F, model.N, within=NonNegativeReals)\n",
      "# Lower and upper bound on each nutrient\n",
      "model.Nmin = Param(model.N, within=NonNegativeReals, default=0.0)\n",
      "model.Nmax = Param(model.N, within=NonNegativeReals, default=infinity)\n",
      "# Volume per serving of food\n",
      "model.V    = Param(model.F, within=PositiveReals)\n",
      "# Maximum volume of food consumed\n",
      "model.Vmax = Param(within=PositiveReals)\n",
      "\n",
      "# Number of servings consumed of each food\n",
      "model.x = Var(model.F, within=NonNegativeIntegers)\n",
      "\n",
      "# Minimize the cost of food that is consumed\n",
      "def cost_rule(model):\n",
      "    return sum(model.c[i]*model.x[i] for i in model.F)\n",
      "model.cost = Objective(rule=cost_rule)\n",
      "\n",
      "# Limit nutrient consumption for each nutrient\n",
      "def nutrient_rule(model, j):\n",
      "    value = sum(model.a[i,j]*model.x[i] for i in model.F)\n",
      "    return model.Nmin[j] <= value <= model.Nmax[j]\n",
      "model.nutrient_limit = Constraint(model.N, rule=nutrient_rule)\n",
      "\n",
      "# Limit the volume of food consumed\n",
      "def volume_rule(model):\n",
      "    return sum(model.V[i]*model.x[i] for i in model.F) <= model.Vmax\n",
      "model.volume = Constraint(rule=volume_rule)\n"
     ]
    }
   ],
   "source": [
    "!cat diet.py"
   ]
  },
  {
   "cell_type": "markdown",
   "metadata": {},
   "source": [
    "## Model Data"
   ]
  },
  {
   "cell_type": "markdown",
   "metadata": {},
   "source": [
    "Since this is an abstract Pyomo model, the set and parameter values need to be provided to initialize the model. The following data command file provides a synthetic data set:"
   ]
  },
  {
   "cell_type": "code",
   "execution_count": 5,
   "metadata": {},
   "outputs": [
    {
     "name": "stdout",
     "output_type": "stream",
     "text": [
      "param:  F:                          c     V  :=\n",
      "  \"Cheeseburger\"                 1.84   4.0  \n",
      "  \"Ham Sandwich\"                 2.19   7.5  \n",
      "  \"Hamburger\"                    1.84   3.5  \n",
      "  \"Fish Sandwich\"                1.44   5.0  \n",
      "  \"Chicken Sandwich\"             2.29   7.3  \n",
      "  \"Fries\"                         .77   2.6  \n",
      "  \"Sausage Biscuit\"              1.29   4.1  \n",
      "  \"Lowfat Milk\"                   .60   8.0 \n",
      "  \"Orange Juice\"                  .72  12.0 ;\n",
      "\n",
      "param Vmax := 75.0;\n",
      "\n",
      "param:  N:       Nmin   Nmax :=\n",
      "        Cal      2000      .\n",
      "        Carbo     350    375\n",
      "        Protein    55      .\n",
      "        VitA      100      .\n",
      "        VitC      100      .\n",
      "        Calc      100      .\n",
      "        Iron      100      . ;\n",
      "\n",
      "param a:\n",
      "                               Cal  Carbo Protein   VitA   VitC  Calc  Iron :=\n",
      "  \"Cheeseburger\"               510     34     28     15      6    30    20\n",
      "  \"Ham Sandwich\"               370     35     24     15     10    20    20\n",
      "  \"Hamburger\"                  500     42     25      6      2    25    20\n",
      "  \"Fish Sandwich\"              370     38     14      2      0    15    10\n",
      "  \"Chicken Sandwich\"           400     42     31      8     15    15     8\n",
      "  \"Fries\"                      220     26      3      0     15     0     2\n",
      "  \"Sausage Biscuit\"            345     27     15      4      0    20    15\n",
      "  \"Lowfat Milk\"                110     12      9     10      4    30     0\n",
      "  \"Orange Juice\"                80     20      1      2    120     2     2 ;\n"
     ]
    }
   ],
   "source": [
    "!cat diet.dat"
   ]
  },
  {
   "cell_type": "markdown",
   "metadata": {},
   "source": [
    "Set data is defined with the set command, and parameter data is defined with the param command.\n",
    "\n",
    "This data set considers the problem of designing a daily diet with only food from a fast food chain."
   ]
  },
  {
   "cell_type": "markdown",
   "metadata": {},
   "source": [
    "## Solution"
   ]
  },
  {
   "cell_type": "markdown",
   "metadata": {},
   "source": [
    "Pyomo includes a pyomo command that automates the construction and optimization of models. The GLPK solver can be used in this simple example:"
   ]
  },
  {
   "cell_type": "code",
   "execution_count": null,
   "metadata": {},
   "outputs": [],
   "source": [
    "!pyomo solve --solver=glpk diet.py diet.dat"
   ]
  },
  {
   "cell_type": "code",
   "execution_count": 7,
   "metadata": {},
   "outputs": [
    {
     "name": "stdout",
     "output_type": "stream",
     "text": [
      "# ==========================================================\n",
      "# = Solver Results                                         =\n",
      "# ==========================================================\n",
      "# ----------------------------------------------------------\n",
      "#   Problem Information\n",
      "# ----------------------------------------------------------\n",
      "Problem: \n",
      "- Name: unknown\n",
      "  Lower bound: 15.05\n",
      "  Upper bound: 15.05\n",
      "  Number of objectives: 1\n",
      "  Number of constraints: 10\n",
      "  Number of variables: 10\n",
      "  Number of nonzeros: 77\n",
      "  Sense: minimize\n",
      "# ----------------------------------------------------------\n",
      "#   Solver Information\n",
      "# ----------------------------------------------------------\n",
      "Solver: \n",
      "- Status: ok\n",
      "  Termination condition: optimal\n",
      "  Statistics: \n",
      "    Branch and bound: \n",
      "      Number of bounded subproblems: 89\n",
      "      Number of created subproblems: 89\n",
      "  Error rc: 0\n",
      "  Time: 0.00977396965027\n",
      "# ----------------------------------------------------------\n",
      "#   Solution Information\n",
      "# ----------------------------------------------------------\n",
      "Solution: \n",
      "- number of solutions: 1\n",
      "  number of solutions displayed: 1\n",
      "- Gap: 0.0\n",
      "  Status: optimal\n",
      "  Message: None\n",
      "  Objective:\n",
      "    cost:\n",
      "      Value: 15.05\n",
      "  Variable:\n",
      "    x[Cheeseburger]:\n",
      "      Value: 4\n",
      "    x[Fries]:\n",
      "      Value: 5\n",
      "    x[Fish Sandwich]:\n",
      "      Value: 1\n",
      "    x[Lowfat Milk]:\n",
      "      Value: 4\n",
      "  Constraint: No values\n"
     ]
    }
   ],
   "source": [
    "!cat results.yml"
   ]
  }
 ],
 "metadata": {
  "kernelspec": {
   "display_name": "Python 3",
   "language": "python",
   "name": "python3"
  },
  "language_info": {
   "codemirror_mode": {
    "name": "ipython",
    "version": 3
   },
   "file_extension": ".py",
   "mimetype": "text/x-python",
   "name": "python",
   "nbconvert_exporter": "python",
   "pygments_lexer": "ipython3",
   "version": "3.5.5"
  }
 },
 "nbformat": 4,
 "nbformat_minor": 2
}
