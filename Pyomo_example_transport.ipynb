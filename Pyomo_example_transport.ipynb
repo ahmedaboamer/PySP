{
 "cells": [
  {
   "cell_type": "markdown",
   "metadata": {},
   "source": [
    "# The Transport Problem"
   ]
  },
  {
   "cell_type": "markdown",
   "metadata": {},
   "source": [
    "## Pyomo Formulation"
   ]
  },
  {
   "cell_type": "markdown",
   "metadata": {},
   "source": [
    "### Creation of the Model - Concrete Model"
   ]
  },
  {
   "cell_type": "code",
   "execution_count": 1,
   "metadata": {},
   "outputs": [],
   "source": [
    "# Import of the pyomo module\n",
    "from pyomo.environ import *\n",
    " \n",
    "# Creation of a Concrete Model\n",
    "model = ConcreteModel()"
   ]
  },
  {
   "cell_type": "markdown",
   "metadata": {},
   "source": [
    "### Set Definitions"
   ]
  },
  {
   "cell_type": "markdown",
   "metadata": {},
   "source": [
    "Sets are created as attributes object of the main model objects and all the information is given as parameter in the constructor function. Specifically, we are passing to the constructor the initial elements of the set and a documentation string to keep track on what our set represents:"
   ]
  },
  {
   "cell_type": "code",
   "execution_count": 2,
   "metadata": {},
   "outputs": [],
   "source": [
    "## Define sets ##\n",
    "#  Sets\n",
    "#       i   canning plants   / seattle, san-diego /\n",
    "#       j   markets          / new-york, chicago, topeka / ;\n",
    "model.i = Set(initialize=['seattle','san-diego'], doc='Canning plans')\n",
    "model.j = Set(initialize=['new-york','chicago', 'topeka'], doc='Markets')"
   ]
  },
  {
   "cell_type": "markdown",
   "metadata": {},
   "source": [
    "### Parameters"
   ]
  },
  {
   "cell_type": "markdown",
   "metadata": {},
   "source": [
    "Parameter objects are created specifying the sets over which they are defined and are initialised with either a python dictionary or a scalar:"
   ]
  },
  {
   "cell_type": "code",
   "execution_count": 3,
   "metadata": {},
   "outputs": [],
   "source": [
    "## Define parameters ##\n",
    "#   Parameters\n",
    "#       a(i)  capacity of plant i in cases\n",
    "#         /    seattle     350\n",
    "#              san-diego   600  /\n",
    "#       b(j)  demand at market j in cases\n",
    "#         /    new-york    325\n",
    "#              chicago     300\n",
    "#              topeka      275  / ;\n",
    "model.a = Param(model.i, initialize={'seattle':350,'san-diego':600}, doc='Capacity of plant i in cases')\n",
    "model.b = Param(model.j, initialize={'new-york':325,'chicago':300,'topeka':275}, doc='Demand at market j in cases')\n",
    "#  Table d(i,j)  distance in thousands of miles\n",
    "#                    new-york       chicago      topeka\n",
    "#      seattle          2.5           1.7          1.8\n",
    "#      san-diego        2.5           1.8          1.4  ;\n",
    "dtab = {\n",
    "    ('seattle',  'new-york') : 2.5,\n",
    "    ('seattle',  'chicago')  : 1.7,\n",
    "    ('seattle',  'topeka')   : 1.8,\n",
    "    ('san-diego','new-york') : 2.5,\n",
    "    ('san-diego','chicago')  : 1.8,\n",
    "    ('san-diego','topeka')   : 1.4,\n",
    "    }\n",
    "model.d = Param(model.i, model.j, initialize=dtab, doc='Distance in thousands of miles')\n",
    "#  Scalar f  freight in dollars per case per thousand miles  /90/ ;\n",
    "model.f = Param(initialize=90, doc='Freight in dollars per case per thousand miles')"
   ]
  },
  {
   "cell_type": "markdown",
   "metadata": {},
   "source": [
    "A third, powerful way to initialize a parameter is using a user-defined function.\n",
    "\n",
    "This function will be automatically called by pyomo with any possible (i,j) set. In this case pyomo will actually call c_init() six times in order to initialize the model.c parameter."
   ]
  },
  {
   "cell_type": "code",
   "execution_count": 4,
   "metadata": {},
   "outputs": [],
   "source": [
    "#  Parameter c(i,j)  transport cost in thousands of dollars per case ;\n",
    "#            c(i,j) = f * d(i,j) / 1000 ;\n",
    "def c_init(model, i, j):\n",
    "    return model.f * model.d[i,j] / 1000\n",
    "model.c = Param(model.i, model.j, initialize=c_init, doc='Transport cost in thousands of dollar per case')"
   ]
  },
  {
   "cell_type": "markdown",
   "metadata": {},
   "source": [
    "### Variables"
   ]
  },
  {
   "cell_type": "markdown",
   "metadata": {},
   "source": [
    "Similar to parameters, variables are created specifying their domain(s). For variables we can also specify the upper/lower bounds in the constructor.\n",
    "\n",
    "Differently from GAMS, we don't need to define the variable that is on the left hand side of the objective function."
   ]
  },
  {
   "cell_type": "code",
   "execution_count": 5,
   "metadata": {},
   "outputs": [],
   "source": [
    "## Define variables ##\n",
    "#  Variables\n",
    "#       x(i,j)  shipment quantities in cases\n",
    "#       z       total transportation costs in thousands of dollars ;\n",
    "#  Positive Variable x ;\n",
    "model.x = Var(model.i, model.j, bounds=(0.0,None), doc='Shipment quantities in case')"
   ]
  },
  {
   "cell_type": "markdown",
   "metadata": {},
   "source": [
    "### Constrains"
   ]
  },
  {
   "cell_type": "markdown",
   "metadata": {},
   "source": [
    "At this point, it should not be a surprise that constrains are again defined as model objects with the required information passed as parameter in the constructor function."
   ]
  },
  {
   "cell_type": "code",
   "execution_count": 6,
   "metadata": {},
   "outputs": [],
   "source": [
    "## Define contrains ##\n",
    "# supply(i)   observe supply limit at plant i\n",
    "# supply(i) .. sum (j, x(i,j)) =l= a(i)\n",
    "def supply_rule(model, i):\n",
    "    return sum(model.x[i,j] for j in model.j) <= model.a[i]\n",
    "model.supply = Constraint(model.i, rule=supply_rule, doc='Observe supply limit at plant i')\n",
    "# demand(j)   satisfy demand at market j ;  \n",
    "# demand(j) .. sum(i, x(i,j)) =g= b(j);\n",
    "def demand_rule(model, j):\n",
    "    return sum(model.x[i,j] for i in model.i) >= model.b[j]  \n",
    "model.demand = Constraint(model.j, rule=demand_rule, doc='Satisfy demand at market j')"
   ]
  },
  {
   "cell_type": "markdown",
   "metadata": {},
   "source": [
    "### Objective and Solving"
   ]
  },
  {
   "cell_type": "markdown",
   "metadata": {},
   "source": [
    "The definition of the objective is similar to those of the constrains, except that most solvers require a scalar objective function, hence a unique function, and we can specify the sense (direction) of the optimisation."
   ]
  },
  {
   "cell_type": "code",
   "execution_count": 7,
   "metadata": {},
   "outputs": [],
   "source": [
    "## Define Objective and solve ##\n",
    "#  cost        define objective function\n",
    "#  cost ..        z  =e=  sum((i,j), c(i,j)*x(i,j)) ;\n",
    "#  Model transport /all/ ;\n",
    "#  Solve transport using lp minimizing z ;\n",
    "def objective_rule(model):\n",
    "    return sum(model.c[i,j]*model.x[i,j] for i in model.i for j in model.j)\n",
    "model.objective = Objective(rule=objective_rule, sense=minimize, doc='Define objective function')"
   ]
  },
  {
   "cell_type": "markdown",
   "metadata": {},
   "source": [
    "As we are here looping over two distinct sets, we can see how list comprehension really simplifies the code. The objective function could have being written without list comprehension as:"
   ]
  },
  {
   "cell_type": "markdown",
   "metadata": {},
   "source": [
    "### Retrieving the Output"
   ]
  },
  {
   "cell_type": "markdown",
   "metadata": {},
   "source": [
    "We use the pyomo_postprocess() function to retrieve the output and do something with it. For example, we could display solution values (see below), plot a graph with matplotlib or save it in a csv file.\n",
    "\n",
    "This function is called by pyomo after the solver has finished."
   ]
  },
  {
   "cell_type": "code",
   "execution_count": 8,
   "metadata": {},
   "outputs": [],
   "source": [
    "## Display of the output ##\n",
    "# Display x.l, x.m ;\n",
    "def pyomo_postprocess(options=None, instance=None, results=None):\n",
    "    model.x.display()"
   ]
  },
  {
   "cell_type": "markdown",
   "metadata": {},
   "source": [
    "We can print model structure information with model.pprint() (“pprint” stand for “pretty print”). Results are also by default saved in a results.json file or, if PyYAML is installed in the system, in results.yml."
   ]
  },
  {
   "cell_type": "markdown",
   "metadata": {},
   "source": [
    "### Editing and Running the Script"
   ]
  },
  {
   "cell_type": "markdown",
   "metadata": {},
   "source": [
    "Differently from GAMS, you can use whatever editor environment you wish to code a pyomo script. If you don't need debugging features, a simple text editor like Notepad++ (in windows), gedit or kate (in Linux) will suffice. They already have syntax highlight for python.\n",
    "\n",
    "If you want advanced features and debugging capabilities you can use a dedicated Python IDE, like e.g. Spyder.\n",
    "\n",
    "You will normally run the script as pyomo solve –solver=glpk transport.py. You can output solver specific output adding the option –stream-output. If you want to run the script as python transport.py add the following lines at the end:"
   ]
  },
  {
   "cell_type": "code",
   "execution_count": 9,
   "metadata": {},
   "outputs": [
    {
     "name": "stdout",
     "output_type": "stream",
     "text": [
      "# ==========================================================\n",
      "# = Solver Results                                         =\n",
      "# ==========================================================\n",
      "# ----------------------------------------------------------\n",
      "#   Problem Information\n",
      "# ----------------------------------------------------------\n",
      "Problem: \n",
      "- Name: unknown\n",
      "  Lower bound: 153.675\n",
      "  Upper bound: 153.675\n",
      "  Number of objectives: 1\n",
      "  Number of constraints: 6\n",
      "  Number of variables: 7\n",
      "  Number of nonzeros: 13\n",
      "  Sense: minimize\n",
      "# ----------------------------------------------------------\n",
      "#   Solver Information\n",
      "# ----------------------------------------------------------\n",
      "Solver: \n",
      "- Status: ok\n",
      "  Termination condition: optimal\n",
      "  Statistics: \n",
      "    Branch and bound: \n",
      "      Number of bounded subproblems: 0\n",
      "      Number of created subproblems: 0\n",
      "  Error rc: 0\n",
      "  Time: 0.02874588966369629\n",
      "# ----------------------------------------------------------\n",
      "#   Solution Information\n",
      "# ----------------------------------------------------------\n",
      "Solution: \n",
      "- number of solutions: 0\n",
      "  number of solutions displayed: 0\n",
      "\n",
      "Displaying Solution\n",
      "------------------------------------------------------------\n",
      "x : Shipment quantities in case\n",
      "    Size=6, Index=x_index\n",
      "    Key                       : Lower : Value : Upper : Fixed : Stale : Domain\n",
      "     ('san-diego', 'chicago') :   0.0 :   0.0 :  None : False : False :  Reals\n",
      "    ('san-diego', 'new-york') :   0.0 : 325.0 :  None : False : False :  Reals\n",
      "      ('san-diego', 'topeka') :   0.0 : 275.0 :  None : False : False :  Reals\n",
      "       ('seattle', 'chicago') :   0.0 : 300.0 :  None : False : False :  Reals\n",
      "      ('seattle', 'new-york') :   0.0 :   0.0 :  None : False : False :  Reals\n",
      "        ('seattle', 'topeka') :   0.0 :   0.0 :  None : False : False :  Reals\n"
     ]
    }
   ],
   "source": [
    "# This is an optional code path that allows the script to be run outside of\n",
    "# pyomo command-line.  For example:  python transport.py\n",
    "if __name__ == '__main__':\n",
    "    # This emulates what the pyomo command-line tools does\n",
    "    from pyomo.opt import SolverFactory\n",
    "    import pyomo.environ\n",
    "    opt = SolverFactory(\"glpk\")\n",
    "    results = opt.solve(model)\n",
    "    #sends results to stdout\n",
    "    results.write()\n",
    "    print(\"\\nDisplaying Solution\\n\" + '-'*60)\n",
    "    pyomo_postprocess(None, model, results)"
   ]
  },
  {
   "cell_type": "code",
   "execution_count": 11,
   "metadata": {},
   "outputs": [
    {
     "name": "stdout",
     "output_type": "stream",
     "text": [
      "[    0.00] Setting up Pyomo environment\n",
      "[    0.00] Applying Pyomo preprocessing actions\n",
      "[    0.01] Creating model\n",
      "[    0.01] Applying solver\n",
      "[    0.06] Processing results\n",
      "    Number of solutions: 1\n",
      "    Solution Information\n",
      "      Gap: 0.0\n",
      "      Status: feasible\n",
      "      Function Value: 153.67499999999998\n",
      "    Solver results file: results.yml\n",
      "[    0.06] Applying Pyomo postprocessing actions\n",
      "x : Shipment quantities in case\n",
      "    Size=6, Index=x_index\n",
      "    Key                       : Lower : Value : Upper : Fixed : Stale : Domain\n",
      "     ('san-diego', 'chicago') :   0.0 :   0.0 :  None : False : False :  Reals\n",
      "    ('san-diego', 'new-york') :   0.0 : 325.0 :  None : False : False :  Reals\n",
      "      ('san-diego', 'topeka') :   0.0 : 275.0 :  None : False : False :  Reals\n",
      "       ('seattle', 'chicago') :   0.0 : 300.0 :  None : False : False :  Reals\n",
      "      ('seattle', 'new-york') :   0.0 :   0.0 :  None : False : False :  Reals\n",
      "        ('seattle', 'topeka') :   0.0 :   0.0 :  None : False : False :  Reals\n",
      "[    0.06] Pyomo Finished\n"
     ]
    }
   ],
   "source": [
    "# Solution\n",
    "!pyomo solve --solver=glpk transport.py"
   ]
  },
  {
   "cell_type": "code",
   "execution_count": 1,
   "metadata": {
    "scrolled": true
   },
   "outputs": [
    {
     "name": "stdout",
     "output_type": "stream",
     "text": [
      "#!/usr/bin/env python\n",
      "# -*- coding: utf-8 -*-\n",
      "\n",
      "# Import\n",
      "from pyomo.environ import *\n",
      " \n",
      "# Creation of a Concrete Model\n",
      "model = ConcreteModel()\n",
      " \n",
      "## Define sets ##\n",
      "#  Sets\n",
      "#       i   canning plants   / seattle, san-diego /\n",
      "#       j   markets          / new-york, chicago, topeka / ;\n",
      "model.i = Set(initialize=['seattle','san-diego'], doc='Canning plans')\n",
      "model.j = Set(initialize=['new-york','chicago', 'topeka'], doc='Markets')\n",
      " \n",
      "## Define parameters ##\n",
      "#   Parameters\n",
      "#       a(i)  capacity of plant i in cases\n",
      "#         /    seattle     350\n",
      "#              san-diego   600  /\n",
      "#       b(j)  demand at market j in cases\n",
      "#         /    new-york    325\n",
      "#              chicago     300\n",
      "#              topeka      275  / ;\n",
      "model.a = Param(model.i, initialize={'seattle':350,'san-diego':600}, doc='Capacity of plant i in cases')\n",
      "model.b = Param(model.j, initialize={'new-york':325,'chicago':300,'topeka':275}, doc='Demand at market j in cases')\n",
      "#  Table d(i,j)  distance in thousands of miles\n",
      "#                    new-york       chicago      topeka\n",
      "#      seattle          2.5           1.7          1.8\n",
      "#      san-diego        2.5           1.8          1.4  ;\n",
      "dtab = {\n",
      "    ('seattle',  'new-york') : 2.5,\n",
      "    ('seattle',  'chicago')  : 1.7,\n",
      "    ('seattle',  'topeka')   : 1.8,\n",
      "    ('san-diego','new-york') : 2.5,\n",
      "    ('san-diego','chicago')  : 1.8,\n",
      "    ('san-diego','topeka')   : 1.4,\n",
      "    }\n",
      "model.d = Param(model.i, model.j, initialize=dtab, doc='Distance in thousands of miles')\n",
      "#  Scalar f  freight in dollars per case per thousand miles  /90/ ;\n",
      "model.f = Param(initialize=90, doc='Freight in dollars per case per thousand miles')\n",
      "#  Parameter c(i,j)  transport cost in thousands of dollars per case ;\n",
      "#            c(i,j) = f * d(i,j) / 1000 ;\n",
      "def c_init(model, i, j):\n",
      "  return model.f * model.d[i,j] / 1000\n",
      "model.c = Param(model.i, model.j, initialize=c_init, doc='Transport cost in thousands of dollar per case')\n",
      " \n",
      "## Define variables ##\n",
      "#  Variables\n",
      "#       x(i,j)  shipment quantities in cases\n",
      "#       z       total transportation costs in thousands of dollars ;\n",
      "#  Positive Variable x ;\n",
      "model.x = Var(model.i, model.j, bounds=(0.0,None), doc='Shipment quantities in case')\n",
      " \n",
      "## Define contrains ##\n",
      "# supply(i)   observe supply limit at plant i\n",
      "# supply(i) .. sum (j, x(i,j)) =l= a(i)\n",
      "def supply_rule(model, i):\n",
      "  return sum(model.x[i,j] for j in model.j) <= model.a[i]\n",
      "model.supply = Constraint(model.i, rule=supply_rule, doc='Observe supply limit at plant i')\n",
      "# demand(j)   satisfy demand at market j ;  \n",
      "# demand(j) .. sum(i, x(i,j)) =g= b(j);\n",
      "def demand_rule(model, j):\n",
      "  return sum(model.x[i,j] for i in model.i) >= model.b[j]  \n",
      "model.demand = Constraint(model.j, rule=demand_rule, doc='Satisfy demand at market j')\n",
      " \n",
      "## Define Objective and solve ##\n",
      "#  cost        define objective function\n",
      "#  cost ..        z  =e=  sum((i,j), c(i,j)*x(i,j)) ;\n",
      "#  Model transport /all/ ;\n",
      "#  Solve transport using lp minimizing z ;\n",
      "def objective_rule(model):\n",
      "  return sum(model.c[i,j]*model.x[i,j] for i in model.i for j in model.j)\n",
      "model.objective = Objective(rule=objective_rule, sense=minimize, doc='Define objective function')\n",
      " \n",
      " \n",
      "## Display of the output ##\n",
      "# Display x.l, x.m ;\n",
      "def pyomo_postprocess(options=None, instance=None, results=None):\n",
      "  model.x.display()\n",
      " \n",
      "# This is an optional code path that allows the script to be run outside of\n",
      "# pyomo command-line.  For example:  python transport.py\n",
      "if __name__ == '__main__':\n",
      "    # This emulates what the pyomo command-line tools does\n",
      "    from pyomo.opt import SolverFactory\n",
      "    import pyomo.environ\n",
      "    opt = SolverFactory(\"glpk\")\n",
      "    results = opt.solve(model)\n",
      "    #sends results to stdout\n",
      "    results.write()\n",
      "    print(\"\\nDisplaying Solution\\n\" + '-'*60)\n",
      "    pyomo_postprocess(None, model, results)\n",
      "\n"
     ]
    }
   ],
   "source": [
    "!cat transport.py"
   ]
  }
 ],
 "metadata": {
  "kernelspec": {
   "display_name": "Python 3",
   "language": "python",
   "name": "python3"
  },
  "language_info": {
   "codemirror_mode": {
    "name": "ipython",
    "version": 3
   },
   "file_extension": ".py",
   "mimetype": "text/x-python",
   "name": "python",
   "nbconvert_exporter": "python",
   "pygments_lexer": "ipython3",
   "version": "3.5.5"
  }
 },
 "nbformat": 4,
 "nbformat_minor": 2
}
