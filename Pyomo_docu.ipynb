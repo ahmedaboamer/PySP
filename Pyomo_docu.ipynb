{
 "cells": [
  {
   "cell_type": "markdown",
   "metadata": {},
   "source": [
    "## Simple Abstract Pyomo Model"
   ]
  },
  {
   "cell_type": "code",
   "execution_count": 1,
   "metadata": {},
   "outputs": [],
   "source": [
    "# abstract1.py\n",
    "from __future__ import division\n",
    "from pyomo.environ import *\n",
    "\n",
    "model = AbstractModel()\n",
    "\n",
    "model.m = Param(within=NonNegativeIntegers)\n",
    "model.n = Param(within=NonNegativeIntegers)\n",
    "\n",
    "model.I = RangeSet(1, model.m)\n",
    "model.J = RangeSet(1, model.n)\n",
    "\n",
    "model.a = Param(model.I, model.J)\n",
    "model.b = Param(model.I)\n",
    "model.c = Param(model.J)\n",
    "\n",
    "# the next line declares a variable indexed by the set J\n",
    "model.x = Var(model.J, domain=NonNegativeReals)\n",
    "\n",
    "def obj_expression(model):\n",
    "    return summation(model.c, model.x)\n",
    "\n",
    "model.OBJ = Objective(rule=obj_expression)\n",
    "\n",
    "def ax_constraint_rule(model, i):\n",
    "    # return the expression for the constraint for i\n",
    "    return sum(model.a[i,j] * model.x[j] for j in model.J) >= model.b[i]\n",
    "\n",
    "# the next line creates one constraint for each member of the set model.I\n",
    "model.AxbConstraint = Constraint(model.I, rule=ax_constraint_rule)"
   ]
  },
  {
   "cell_type": "markdown",
   "metadata": {},
   "source": [
    "#. one way to input the data in AMPL format\n",
    "#. for indexed parameters, the indexes are given before the value\n",
    "\n",
    "param m := 1 ;\n",
    "param n := 2 ;\n",
    "\n",
    "param a :=\n",
    "1 1 3\n",
    "1 2 4\n",
    ";\n",
    "\n",
    "param c:=\n",
    "1 2\n",
    "2 3\n",
    ";\n",
    "\n",
    "param b := 1 1 ;"
   ]
  },
  {
   "cell_type": "markdown",
   "metadata": {},
   "source": [
    "This is .dat file with AMPL format"
   ]
  },
  {
   "cell_type": "markdown",
   "metadata": {},
   "source": [
    "### Symbolic Index Sets"
   ]
  },
  {
   "cell_type": "code",
   "execution_count": 7,
   "metadata": {},
   "outputs": [],
   "source": [
    "# abstract2.py\n",
    "\n",
    "from __future__ import division\n",
    "from pyomo.environ import *\n",
    "\n",
    "model = AbstractModel()\n",
    "\n",
    "model.I = Set()\n",
    "model.J = Set()\n",
    "\n",
    "model.a = Param(model.I, model.J)\n",
    "model.b = Param(model.I)\n",
    "model.c = Param(model.J)\n",
    "\n",
    "# the next line declares a variable indexed by the set J\n",
    "model.x = Var(model.J, domain=NonNegativeReals)\n",
    "\n",
    "def obj_expression(model):\n",
    "    return summation(model.c, model.x)\n",
    "\n",
    "model.OBJ = Objective(rule=obj_expression)\n",
    "\n",
    "def ax_constraint_rule(model, i):\n",
    "    # return the expression for the constraint for i\n",
    "    return sum(model.a[i,j] * model.x[j] for j in model.J) >= model.b[i]\n",
    "\n",
    "# the next line creates one constraint for each member of the set model.I\n",
    "model.AxbConstraint = Constraint(model.I, rule=ax_constraint_rule)"
   ]
  },
  {
   "cell_type": "raw",
   "metadata": {},
   "source": [
    "# abstract2a.dat AMPL format\n",
    "\n",
    "set I := 1 ;\n",
    "set J := 1 2 ;\n",
    "\n",
    "param a :=\n",
    "1 1 3\n",
    "1 2 4\n",
    ";\n",
    "\n",
    "param c:=\n",
    "1 2\n",
    "2 3\n",
    ";\n",
    "\n",
    "param b := 1 1 ;"
   ]
  },
  {
   "cell_type": "markdown",
   "metadata": {},
   "source": [
    "This is .dat file with AMPL format"
   ]
  },
  {
   "cell_type": "raw",
   "metadata": {},
   "source": [
    "# abstract2.dat AMPL data format\n",
    "\n",
    "set I := TV Film ;\n",
    "set J := Graham John Carol ;\n",
    "\n",
    "param a :=\n",
    "TV  Graham 3\n",
    "TV John 4.4\n",
    "TV Carol 4.9\n",
    "Film Graham 1\n",
    "Film John 2.4\n",
    "Film Carol 1.1\n",
    ";\n",
    "\n",
    "param c := [*]\n",
    " Graham 2.2\n",
    " John 3.1416\n",
    " Carol 3\n",
    ";\n",
    "\n",
    "param b := TV 1 Film 1 ;\n"
   ]
  },
  {
   "cell_type": "markdown",
   "metadata": {},
   "source": [
    "This is .dat file with AMPL format"
   ]
  },
  {
   "cell_type": "code",
   "execution_count": null,
   "metadata": {},
   "outputs": [],
   "source": [
    "# solving in cmd\n",
    "pyomo solve abstract2.py abstract2a.dat --solver=glpk"
   ]
  },
  {
   "cell_type": "markdown",
   "metadata": {},
   "source": [
    "## A Simple Concrete Pyomo Model"
   ]
  },
  {
   "cell_type": "code",
   "execution_count": 2,
   "metadata": {},
   "outputs": [],
   "source": [
    "from __future__ import division\n",
    "from pyomo.environ import *\n",
    "\n",
    "model = ConcreteModel()\n",
    "\n",
    "model.x = Var([1,2], domain=NonNegativeReals)\n",
    "\n",
    "model.OBJ = Objective(expr = 2*model.x[1] + 3*model.x[2])\n",
    "\n",
    "model.Constraint1 = Constraint(expr = 3*model.x[1] + 4*model.x[2] >= 1)"
   ]
  },
  {
   "cell_type": "code",
   "execution_count": null,
   "metadata": {},
   "outputs": [],
   "source": [
    "# solving in cmd\n",
    "pyomo solve concrete.py --solver=glpk"
   ]
  },
  {
   "cell_type": "markdown",
   "metadata": {},
   "source": [
    "### Expression"
   ]
  },
  {
   "cell_type": "code",
   "execution_count": 17,
   "metadata": {},
   "outputs": [],
   "source": [
    "from pyomo.environ import *"
   ]
  },
  {
   "cell_type": "code",
   "execution_count": 18,
   "metadata": {
    "scrolled": true
   },
   "outputs": [
    {
     "name": "stdout",
     "output_type": "stream",
     "text": [
      "WARNING: DEPRECATED: Cannot call Model.create_instance() on a constructed\n",
      "    model; returning a clone of the current model instance.\n",
      "1.0\n",
      "1.0\n",
      "WARNING: DEPRECATED: The .value property getter on _GeneralExpressionDataImpl\n",
      "    is deprecated. Use the .expr property getter instead\n",
      "x\n",
      "WARNING: DEPRECATED: The .value property setter on _GeneralExpressionDataImpl\n",
      "    is deprecated. Use the set_value(expr) method instead\n",
      "1.0\n"
     ]
    }
   ],
   "source": [
    "model = ConcreteModel()\n",
    "model.x = Var(initialize=1.0)\n",
    "def _e(m,i):\n",
    "    return m.x*i\n",
    "model.e = Expression([1,2,3], rule=_e)\n",
    "\n",
    "instance = model.create_instance()\n",
    "\n",
    "print (value(instance.e[1])) # -> 1.0\n",
    "print (instance.e[1]())           # -> 1.0\n",
    "print (instance.e[1].value)  # -> a pyomo expression object\n",
    "\n",
    "# Change the underlying expression\n",
    "instance.e[1].value = instance.x**2\n",
    "\n",
    "#... solve\n",
    "#... load results\n",
    "\n",
    "# print the value of the expression given the loaded optimal solution\n",
    "print (value(instance.e[1]))"
   ]
  },
  {
   "cell_type": "code",
   "execution_count": 16,
   "metadata": {},
   "outputs": [
    {
     "name": "stdout",
     "output_type": "stream",
     "text": [
      "5 + x\n",
      "5 + x + x\n"
     ]
    }
   ],
   "source": [
    "model = ConcreteModel()\n",
    "model.x = Var()\n",
    "\n",
    "# create a Pyomo expression\n",
    "e1 = model.x + 5\n",
    "print(e1)\n",
    "\n",
    "# create another Pyomo expression\n",
    "# e1 is copied when generating e2\n",
    "e2 = e1 + model.x\n",
    "print(e2)"
   ]
  }
 ],
 "metadata": {
  "kernelspec": {
   "display_name": "Python [conda env:python3]",
   "language": "python",
   "name": "conda-env-python3-py"
  },
  "language_info": {
   "codemirror_mode": {
    "name": "ipython",
    "version": 3
   },
   "file_extension": ".py",
   "mimetype": "text/x-python",
   "name": "python",
   "nbconvert_exporter": "python",
   "pygments_lexer": "ipython3",
   "version": "3.5.5"
  }
 },
 "nbformat": 4,
 "nbformat_minor": 2
}
