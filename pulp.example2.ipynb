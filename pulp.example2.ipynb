{
 "cells": [
  {
   "cell_type": "code",
   "execution_count": 31,
   "metadata": {},
   "outputs": [],
   "source": [
    "from pylab import dot, random\n",
    "n = 50\n",
    "a = 2. * random(n) - 1.\n",
    "B = 2. * random((n, n)) - 1.\n",
    "f = lambda i, x: a[i] + dot(B[i], x)\n",
    "objective = lambda x: max([f(i, x) for i in range(n)])"
   ]
  },
  {
   "cell_type": "code",
   "execution_count": null,
   "metadata": {},
   "outputs": [],
   "source": [
    "import pulp\n",
    "\n",
    "def solve_minmax(n, a, B, x_min=None, x_max=None):\n",
    "    x = pulp.LpVariable.dicts(\"x\", range(n + 1), x_min, x_max)\n",
    "    lp_prob = pulp.LpProblem(\"Minmax Problem\", pulp.LpMinimize)\n",
    "    lp_prob += pulp.lpSum([x[n]]), \"Minimize_the_maximum\"\n",
    "\n",
    "    for i in range(n):\n",
    "        label = \"Max_constraint_%d\" % i\n",
    "        dot_B_x = pulp.lpSum([B[i][j] * x[j] for j in range(n)])\n",
    "        condition = pulp.lpSum([x[n]]) >= a[i] + dot_B_x\n",
    "        lp_prob += condition, label\n",
    "\n",
    "    lp_prob.writeLP(\"MinmaxProblem.lp\")  # optional\n",
    "    lp_prob.solve()\n",
    "\n",
    "    print \"Status:\", pulp.LpStatus[lp_prob.status]\n",
    "    for v in lp_prob.variables():\n",
    "        print v.name, \"=\", v.varValue\n",
    "    print \"Total Cost =\", pulp.value(lp_prob.objective)"
   ]
  },
  {
   "cell_type": "code",
   "execution_count": null,
   "metadata": {},
   "outputs": [],
   "source": []
  },
  {
   "cell_type": "code",
   "execution_count": null,
   "metadata": {},
   "outputs": [],
   "source": []
  },
  {
   "cell_type": "code",
   "execution_count": null,
   "metadata": {},
   "outputs": [],
   "source": []
  }
 ],
 "metadata": {
  "kernelspec": {
   "display_name": "Python [conda env:python3]",
   "language": "python",
   "name": "conda-env-python3-py"
  },
  "language_info": {
   "codemirror_mode": {
    "name": "ipython",
    "version": 3
   },
   "file_extension": ".py",
   "mimetype": "text/x-python",
   "name": "python",
   "nbconvert_exporter": "python",
   "pygments_lexer": "ipython3",
   "version": "3.5.5"
  }
 },
 "nbformat": 4,
 "nbformat_minor": 2
}
