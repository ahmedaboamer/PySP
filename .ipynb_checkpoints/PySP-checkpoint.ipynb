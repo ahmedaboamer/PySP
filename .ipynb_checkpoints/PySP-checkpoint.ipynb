{
 "cells": [
  {
   "cell_type": "markdown",
   "metadata": {},
   "source": [
    "## Overview of Modeling Components and Processes"
   ]
  },
  {
   "cell_type": "markdown",
   "metadata": {},
   "source": [
    "The sequence of activities is typically the following:\n",
    "\n",
    "- Create a deterministic model and declare components\n",
    "- Develop base-case data for the deterministic model\n",
    "- Test, verify and validate the deterministic model\n",
    "- Model the stochastic processes\n",
    "- Develop a way to generate scenarios (in the form of a tree if there are more - than two stages)\n",
    "- Create the data files need to describe the stochastics\n",
    "- Use PySP to solve stochastic problem\n",
    "\n",
    "When viewed from the standpoint of file creation, the process is\n",
    "\n",
    "- Create an abstract model for the deterministic problem in a file called ReferenceModel.py\n",
    "- Specify the stochastics in a file called ScenarioStructure.dat\n",
    "- Specify scenario data"
   ]
  }
 ],
 "metadata": {
  "kernelspec": {
   "display_name": "Python [conda env:python3]",
   "language": "python",
   "name": "conda-env-python3-py"
  },
  "language_info": {
   "codemirror_mode": {
    "name": "ipython",
    "version": 3
   },
   "file_extension": ".py",
   "mimetype": "text/x-python",
   "name": "python",
   "nbconvert_exporter": "python",
   "pygments_lexer": "ipython3",
   "version": "3.5.5"
  }
 },
 "nbformat": 4,
 "nbformat_minor": 2
}
